{
  "nbformat": 4,
  "nbformat_minor": 0,
  "metadata": {
    "colab": {
      "provenance": [],
      "collapsed_sections": [
        "weRQS38Odqsr",
        "cg8OnU1gdyJF",
        "xgbUBps9d3U2",
        "NBp67KMid_LE",
        "MXpe1tw0eD29"
      ],
      "gpuType": "T4"
    },
    "kernelspec": {
      "name": "python3",
      "display_name": "Python 3"
    },
    "language_info": {
      "name": "python"
    },
    "accelerator": "GPU",
    "gpuClass": "standard"
  },
  "cells": [
    {
      "cell_type": "markdown",
      "source": [
        "# Helpers"
      ],
      "metadata": {
        "id": "weRQS38Odqsr"
      }
    },
    {
      "cell_type": "code",
      "source": [
        "!pip install pickle5"
      ],
      "metadata": {
        "colab": {
          "base_uri": "https://localhost:8080/"
        },
        "id": "yygYMQdo-2c3",
        "outputId": "e8ba9cd5-7fdd-4133-dc5b-4e6a07ce88b5"
      },
      "execution_count": null,
      "outputs": [
        {
          "output_type": "stream",
          "name": "stdout",
          "text": [
            "Looking in indexes: https://pypi.org/simple, https://us-python.pkg.dev/colab-wheels/public/simple/\n",
            "Collecting pickle5\n",
            "  Downloading pickle5-0.0.11.tar.gz (132 kB)\n",
            "\u001b[2K     \u001b[90m━━━━━━━━━━━━━━━━━━━━━━━━━━━━━━━━━━━━━━━\u001b[0m \u001b[32m132.1/132.1 kB\u001b[0m \u001b[31m6.6 MB/s\u001b[0m eta \u001b[36m0:00:00\u001b[0m\n",
            "\u001b[?25h  Preparing metadata (setup.py) ... \u001b[?25l\u001b[?25hdone\n",
            "Building wheels for collected packages: pickle5\n",
            "  Building wheel for pickle5 (setup.py) ... \u001b[?25l\u001b[?25hdone\n",
            "  Created wheel for pickle5: filename=pickle5-0.0.11-cp310-cp310-linux_x86_64.whl size=256402 sha256=8aff1d8785bb756b08e9cff4bfcbf47feda9d16d61dc9cb6f0d009be610984de\n",
            "  Stored in directory: /root/.cache/pip/wheels/7d/14/ef/4aab19d27fa8e58772be5c71c16add0426acf9e1f64353235c\n",
            "Successfully built pickle5\n",
            "Installing collected packages: pickle5\n",
            "Successfully installed pickle5-0.0.11\n"
          ]
        }
      ]
    },
    {
      "cell_type": "code",
      "source": [
        "!pip install keras_applications"
      ],
      "metadata": {
        "colab": {
          "base_uri": "https://localhost:8080/"
        },
        "id": "FjH84zsl-5T6",
        "outputId": "5713dad0-b0f6-4a81-c977-96847920d1b8"
      },
      "execution_count": null,
      "outputs": [
        {
          "output_type": "stream",
          "name": "stdout",
          "text": [
            "Looking in indexes: https://pypi.org/simple, https://us-python.pkg.dev/colab-wheels/public/simple/\n",
            "Collecting keras_applications\n",
            "  Downloading Keras_Applications-1.0.8-py3-none-any.whl (50 kB)\n",
            "\u001b[2K     \u001b[90m━━━━━━━━━━━━━━━━━━━━━━━━━━━━━━━━━━━━━━━━\u001b[0m \u001b[32m50.7/50.7 kB\u001b[0m \u001b[31m3.2 MB/s\u001b[0m eta \u001b[36m0:00:00\u001b[0m\n",
            "\u001b[?25hRequirement already satisfied: numpy>=1.9.1 in /usr/local/lib/python3.10/dist-packages (from keras_applications) (1.22.4)\n",
            "Requirement already satisfied: h5py in /usr/local/lib/python3.10/dist-packages (from keras_applications) (3.8.0)\n",
            "Installing collected packages: keras_applications\n",
            "Successfully installed keras_applications-1.0.8\n"
          ]
        }
      ]
    },
    {
      "cell_type": "code",
      "source": [
        "import os\n",
        "import pickle5 as pickle\n",
        "from pathlib import Path\n",
        "import random\n",
        "import tensorflow as tf\n",
        "import keras\n",
        "import string\n",
        "from math import ceil\n",
        "import pandas as pd\n",
        "import random\n",
        "import numpy as np\n",
        "import sys\n",
        "import os\n",
        "from PIL import Image\n",
        "from tqdm import tqdm\n",
        "from sklearn.metrics import mean_squared_error as mse\n",
        "from sklearn.metrics import classification_report\n",
        "from sklearn.metrics import accuracy_score\n",
        "from tensorflow.keras.callbacks import EarlyStopping\n",
        "from sklearn.model_selection import train_test_split\n",
        "import pandas as pd\n",
        "import warnings\n",
        "warnings.filterwarnings(\"ignore\")"
      ],
      "metadata": {
        "id": "cJSloxf9-xc3"
      },
      "execution_count": null,
      "outputs": []
    },
    {
      "cell_type": "code",
      "source": [
        "import matplotlib.pyplot as plt"
      ],
      "metadata": {
        "id": "JMUiIicRfXb6"
      },
      "execution_count": null,
      "outputs": []
    },
    {
      "cell_type": "code",
      "source": [
        "def load_pkl(filename):\n",
        "    filename= filename\n",
        "    data= None\n",
        "    with open(filename, \"rb\") as handle:\n",
        "        data= pickle.load(handle)\n",
        "        handle.close()\n",
        "    return data\n",
        "\n",
        "def softomax(output):\n",
        "\n",
        "  final_l = []\n",
        "  for i in output:\n",
        "    l = []\n",
        "    for j in i:\n",
        "      if j > 0.5:\n",
        "        p = 1.0\n",
        "      else:\n",
        "        p = 0.0\n",
        "      l.append(p)\n",
        "    final_l.append(l)\n",
        "  return final_l\n",
        "\n",
        "def classwise_genre_results(y_pred,y_true):\n",
        "\n",
        "  \"\"\"\n",
        "  Function to calculate the classwise accuracy\n",
        "  \"\"\"\n",
        "\n",
        "  y_pred = np.array(y_pred)\n",
        "  y_true = np.array(y_true)\n",
        "  acc_overall = 0\n",
        "  acc_vec = []\n",
        "\n",
        "  for i in range(18):\n",
        "    y_pred_i = y_pred[:,i]\n",
        "    y_true_i = y_true[:,i]\n",
        "    class_names = ['Not '+classes[i],classes[i]]\n",
        "    acc = accuracy_score(y_true_i, y_pred_i)\n",
        "    acc_overall += acc\n",
        "    acc_vec.append(acc)\n",
        "    print(classes[i]+\" Accuracy Score: \",acc)\n",
        "    print(classification_report(y_true_i, y_pred_i, labels=np.arange(0,len(class_names),1),target_names=class_names))\n",
        "    print(\"==================================================\")\n",
        "  \n",
        "  print(\"Overall Accuracy: \",acc_overall/18)\n",
        "\n",
        "  print(\"Genre wise Accuracy: \", acc_vec)\n"
      ],
      "metadata": {
        "id": "WBe4BEsj_YrO"
      },
      "execution_count": null,
      "outputs": []
    },
    {
      "cell_type": "markdown",
      "source": [
        "# Data Preparation"
      ],
      "metadata": {
        "id": "cg8OnU1gdyJF"
      }
    },
    {
      "cell_type": "code",
      "source": [
        "op_dict = load_pkl('flickscore_genre.pkl')\n",
        "audio = load_pkl(\"flickscore_audio_embedding.pkl\")"
      ],
      "metadata": {
        "id": "dTU4WqX7_djo"
      },
      "execution_count": null,
      "outputs": []
    },
    {
      "cell_type": "code",
      "source": [
        "new_audio = {}\n",
        "for i in audio:\n",
        "  val = audio[i].tolist()[0]\n",
        "  id = i\n",
        "  new_audio[id] = val "
      ],
      "metadata": {
        "id": "Bi2uR8TwnXHU"
      },
      "execution_count": null,
      "outputs": []
    },
    {
      "cell_type": "code",
      "source": [
        "ll = []\n",
        "for i in op_dict:\n",
        "  ll.append(i)"
      ],
      "metadata": {
        "id": "xvfoQFx1_X5-"
      },
      "execution_count": null,
      "outputs": []
    },
    {
      "cell_type": "code",
      "source": [
        "opl = dict()\n",
        "for i in range(len(ll)):\n",
        "  if ll[i][0] in new_audio:\n",
        "    a = ll[i][0]\n",
        "    opl[a] = ll[i][1]"
      ],
      "metadata": {
        "id": "jJaOOs0d_qNx"
      },
      "execution_count": null,
      "outputs": []
    },
    {
      "cell_type": "code",
      "source": [
        "opl2 = []\n",
        "for i in range(len(ll)):\n",
        "  if ll[i][0] in new_audio:\n",
        "    opl2.append(ll[i])"
      ],
      "metadata": {
        "id": "1nyd-yqR_sc2"
      },
      "execution_count": null,
      "outputs": []
    },
    {
      "cell_type": "code",
      "source": [
        "def get_nth_batch(data):\n",
        "\n",
        "    movies, nrates=  [], [] # 3 empty list \n",
        "    \n",
        "    for  movie_id, rate in data:\n",
        "        #user_id --> 11megha89 , movie_id --.tt014651 , rate --> 1,0,-1\n",
        "        if opl.get(movie_id) is None:    #Return user_vec --> 915\n",
        "            continue\n",
        "        try:\n",
        "            m_vid= new_audio[movie_id]\n",
        "            # print(movie_id)\n",
        "            #print(m_vid.shape) -->(112, 112, 9)\n",
        "        except:\n",
        "            continue\n",
        "        # users.append(user_enc.get(user_id)) #Will \n",
        "        movies.append(m_vid)\n",
        "\n",
        "        # if int(rate) == -1:\n",
        "        #        nrates.append([0,0,1])\n",
        "        # elif int(rate) == 1:\n",
        "        #        nrates.append([0,1,0])\n",
        "        # elif int(rate) == 0:\n",
        "        nrates.append(rate)\n",
        "               \n",
        "    # users= np.array(users, dtype=float)\n",
        "    # print(users.shape) --> (64, 915)\n",
        "    # print(\"movies prob: \",movies)\n",
        "\n",
        "    movies= np.array(movies, dtype=float)\n",
        "    # print(movies.shape) --> (64, 112, 112, 9)\n",
        "    nrates= np.array(nrates, dtype=float)\n",
        "    #print(nrates.shape) --> (64,)\n",
        "\n",
        "    assert len(movies)==len(nrates)\n",
        "\n",
        "    return movies, nrates"
      ],
      "metadata": {
        "id": "X4nlO65r_vUs"
      },
      "execution_count": null,
      "outputs": []
    },
    {
      "cell_type": "code",
      "source": [
        "train_obj = op_dict[0:1300]\n",
        "test_obj = op_dict[1300:]"
      ],
      "metadata": {
        "id": "ufEj2j9ndG9M"
      },
      "execution_count": null,
      "outputs": []
    },
    {
      "cell_type": "code",
      "source": [
        "x_train,y_train = get_nth_batch(train_obj)"
      ],
      "metadata": {
        "id": "w79h1wFH_5Cf"
      },
      "execution_count": null,
      "outputs": []
    },
    {
      "cell_type": "code",
      "source": [
        "input_dimension = 512\n",
        "audio_encode_dim = 512"
      ],
      "metadata": {
        "id": "L3fNkM69_CXM"
      },
      "execution_count": null,
      "outputs": []
    },
    {
      "cell_type": "markdown",
      "source": [
        "# Model"
      ],
      "metadata": {
        "id": "xgbUBps9d3U2"
      }
    },
    {
      "cell_type": "code",
      "execution_count": null,
      "metadata": {
        "id": "lmNAPkkF90Nh"
      },
      "outputs": [],
      "source": [
        "def audio_Main_Model(input_dim,audio_encode_dim):\n",
        "\n",
        "    input_length  = input_dim                                                   \n",
        "    print(input_length)\n",
        "    audio_encode_dim = audio_encode_dim\n",
        "    # user_size = user_size\n",
        "    \n",
        "    #------------------------------------------AUDIO MODEL-----------------------------------------------\n",
        "    audio_input = keras.layers.Input(shape=(input_length),name=\"audio_input\")\n",
        "   \n",
        "    #flatten\n",
        "    dense1 = keras.layers.Dense(units = 512 , activation = \"tanh\")(audio_input)\n",
        "    dense2 = keras.layers.Dense(units = 512 , activation = \"tanh\")(dense1)\n",
        "    dense3 = keras.layers.Dense(units = 512 , activation = \"tanh\")(dense2)  \n",
        "    concat_softmax = keras.layers.Dense(units=18, activation=\"sigmoid\")(dense3)\n",
        "    \n",
        "    model = keras.models.Model(inputs=audio_input, outputs = concat_softmax)\n",
        "    \n",
        "    return model"
      ]
    },
    {
      "cell_type": "code",
      "source": [
        "model = audio_Main_Model(input_dimension,audio_encode_dim)\n",
        "# model.compile(loss='categorical_crossentropy', optimizer='adam', metrics=['accuracy'])"
      ],
      "metadata": {
        "colab": {
          "base_uri": "https://localhost:8080/"
        },
        "id": "jX1_4VaO-QAM",
        "outputId": "25b799ff-abb7-4fcf-b194-ff51e58c7fcb"
      },
      "execution_count": null,
      "outputs": [
        {
          "output_type": "stream",
          "name": "stdout",
          "text": [
            "512\n"
          ]
        }
      ]
    },
    {
      "cell_type": "code",
      "source": [
        "model.summary()"
      ],
      "metadata": {
        "colab": {
          "base_uri": "https://localhost:8080/"
        },
        "id": "QAdvgNObdz2d",
        "outputId": "18931dd3-8f99-4fa2-c966-99874bb0ab66"
      },
      "execution_count": null,
      "outputs": [
        {
          "output_type": "stream",
          "name": "stdout",
          "text": [
            "Model: \"model\"\n",
            "_________________________________________________________________\n",
            " Layer (type)                Output Shape              Param #   \n",
            "=================================================================\n",
            " audio_input (InputLayer)    [(None, 512)]             0         \n",
            "                                                                 \n",
            " dense (Dense)               (None, 512)               262656    \n",
            "                                                                 \n",
            " dense_1 (Dense)             (None, 512)               262656    \n",
            "                                                                 \n",
            " dense_2 (Dense)             (None, 512)               262656    \n",
            "                                                                 \n",
            " dense_3 (Dense)             (None, 18)                9234      \n",
            "                                                                 \n",
            "=================================================================\n",
            "Total params: 797,202\n",
            "Trainable params: 797,202\n",
            "Non-trainable params: 0\n",
            "_________________________________________________________________\n"
          ]
        }
      ]
    },
    {
      "cell_type": "code",
      "source": [
        "# early_stopping_callback = EarlyStopping(monitor = 'loss', patience = 12, mode = 'min', restore_best_weights = True)\n",
        " \n",
        "# Compile the model and specify loss function, optimizer and metrics to the model.\n",
        "model.compile(loss='binary_crossentropy', optimizer='adam', metrics=['accuracy'])\n",
        "\n",
        "# model_training_history = model.fit(x = [movies_train,users_train], y = nrates_train, epochs = 100, batch_size = 16 , shuffle = True, validation_split=0.1) \n",
        "# Start training the model.\n",
        "model_training_history = model.fit(x = x_train, y = y_train, epochs = 100, batch_size = 16 , shuffle = True, validation_split=0.1)"
      ],
      "metadata": {
        "colab": {
          "base_uri": "https://localhost:8080/"
        },
        "id": "L-TNdP1S-VHp",
        "outputId": "b0d980aa-15cc-4c7a-fd4b-56687775d8ed"
      },
      "execution_count": null,
      "outputs": [
        {
          "output_type": "stream",
          "name": "stdout",
          "text": [
            "Epoch 1/100\n",
            "73/73 [==============================] - 7s 10ms/step - loss: 0.3106 - accuracy: 0.2638 - val_loss: 0.2104 - val_accuracy: 0.3876\n",
            "Epoch 2/100\n",
            "73/73 [==============================] - 0s 6ms/step - loss: 0.2875 - accuracy: 0.2933 - val_loss: 0.2140 - val_accuracy: 0.3488\n",
            "Epoch 3/100\n",
            "73/73 [==============================] - 0s 6ms/step - loss: 0.2832 - accuracy: 0.3166 - val_loss: 0.2083 - val_accuracy: 0.3411\n",
            "Epoch 4/100\n",
            "73/73 [==============================] - 0s 4ms/step - loss: 0.2812 - accuracy: 0.3443 - val_loss: 0.2056 - val_accuracy: 0.4186\n",
            "Epoch 5/100\n",
            "73/73 [==============================] - 0s 4ms/step - loss: 0.2788 - accuracy: 0.3486 - val_loss: 0.1999 - val_accuracy: 0.4574\n",
            "Epoch 6/100\n",
            "73/73 [==============================] - 0s 4ms/step - loss: 0.2769 - accuracy: 0.3478 - val_loss: 0.2043 - val_accuracy: 0.4884\n",
            "Epoch 7/100\n",
            "73/73 [==============================] - 0s 4ms/step - loss: 0.2781 - accuracy: 0.3382 - val_loss: 0.2083 - val_accuracy: 0.3488\n",
            "Epoch 8/100\n",
            "73/73 [==============================] - 0s 4ms/step - loss: 0.2752 - accuracy: 0.3564 - val_loss: 0.2076 - val_accuracy: 0.4109\n",
            "Epoch 9/100\n",
            "73/73 [==============================] - 0s 4ms/step - loss: 0.2785 - accuracy: 0.3478 - val_loss: 0.2212 - val_accuracy: 0.3721\n",
            "Epoch 10/100\n",
            "73/73 [==============================] - 0s 6ms/step - loss: 0.2712 - accuracy: 0.3452 - val_loss: 0.2049 - val_accuracy: 0.3876\n",
            "Epoch 11/100\n",
            "73/73 [==============================] - 0s 5ms/step - loss: 0.2737 - accuracy: 0.3503 - val_loss: 0.2158 - val_accuracy: 0.4341\n",
            "Epoch 12/100\n",
            "73/73 [==============================] - 0s 4ms/step - loss: 0.2715 - accuracy: 0.3659 - val_loss: 0.2184 - val_accuracy: 0.5039\n",
            "Epoch 13/100\n",
            "73/73 [==============================] - 0s 4ms/step - loss: 0.2705 - accuracy: 0.3685 - val_loss: 0.2086 - val_accuracy: 0.4109\n",
            "Epoch 14/100\n",
            "73/73 [==============================] - 0s 4ms/step - loss: 0.2680 - accuracy: 0.3884 - val_loss: 0.2279 - val_accuracy: 0.4496\n",
            "Epoch 15/100\n",
            "73/73 [==============================] - 0s 4ms/step - loss: 0.2710 - accuracy: 0.3763 - val_loss: 0.1996 - val_accuracy: 0.4729\n",
            "Epoch 16/100\n",
            "73/73 [==============================] - 0s 4ms/step - loss: 0.2676 - accuracy: 0.3979 - val_loss: 0.2070 - val_accuracy: 0.4574\n",
            "Epoch 17/100\n",
            "73/73 [==============================] - 0s 4ms/step - loss: 0.2673 - accuracy: 0.3824 - val_loss: 0.2034 - val_accuracy: 0.5194\n",
            "Epoch 18/100\n",
            "73/73 [==============================] - 0s 4ms/step - loss: 0.2669 - accuracy: 0.3737 - val_loss: 0.2211 - val_accuracy: 0.4729\n",
            "Epoch 19/100\n",
            "73/73 [==============================] - 0s 4ms/step - loss: 0.2666 - accuracy: 0.3780 - val_loss: 0.2046 - val_accuracy: 0.3798\n",
            "Epoch 20/100\n",
            "73/73 [==============================] - 0s 4ms/step - loss: 0.2666 - accuracy: 0.3789 - val_loss: 0.2053 - val_accuracy: 0.4496\n",
            "Epoch 21/100\n",
            "73/73 [==============================] - 0s 4ms/step - loss: 0.2651 - accuracy: 0.3893 - val_loss: 0.2081 - val_accuracy: 0.3798\n",
            "Epoch 22/100\n",
            "73/73 [==============================] - 0s 4ms/step - loss: 0.2651 - accuracy: 0.3884 - val_loss: 0.1944 - val_accuracy: 0.4961\n",
            "Epoch 23/100\n",
            "73/73 [==============================] - 0s 4ms/step - loss: 0.2647 - accuracy: 0.3789 - val_loss: 0.2206 - val_accuracy: 0.3721\n",
            "Epoch 24/100\n",
            "73/73 [==============================] - 0s 4ms/step - loss: 0.2682 - accuracy: 0.3616 - val_loss: 0.1916 - val_accuracy: 0.4574\n",
            "Epoch 25/100\n",
            "73/73 [==============================] - 0s 4ms/step - loss: 0.2645 - accuracy: 0.3936 - val_loss: 0.2168 - val_accuracy: 0.4961\n",
            "Epoch 26/100\n",
            "73/73 [==============================] - 0s 4ms/step - loss: 0.2635 - accuracy: 0.4040 - val_loss: 0.1946 - val_accuracy: 0.4884\n",
            "Epoch 27/100\n",
            "73/73 [==============================] - 0s 4ms/step - loss: 0.2611 - accuracy: 0.3962 - val_loss: 0.2001 - val_accuracy: 0.5271\n",
            "Epoch 28/100\n",
            "73/73 [==============================] - 0s 4ms/step - loss: 0.2634 - accuracy: 0.3772 - val_loss: 0.1973 - val_accuracy: 0.5039\n",
            "Epoch 29/100\n",
            "73/73 [==============================] - 0s 4ms/step - loss: 0.2602 - accuracy: 0.3953 - val_loss: 0.2082 - val_accuracy: 0.4806\n",
            "Epoch 30/100\n",
            "73/73 [==============================] - 0s 4ms/step - loss: 0.2626 - accuracy: 0.3979 - val_loss: 0.1944 - val_accuracy: 0.4961\n",
            "Epoch 31/100\n",
            "73/73 [==============================] - 0s 4ms/step - loss: 0.2607 - accuracy: 0.4118 - val_loss: 0.2189 - val_accuracy: 0.4574\n",
            "Epoch 32/100\n",
            "73/73 [==============================] - 0s 4ms/step - loss: 0.2624 - accuracy: 0.3971 - val_loss: 0.1948 - val_accuracy: 0.4806\n",
            "Epoch 33/100\n",
            "73/73 [==============================] - 0s 4ms/step - loss: 0.2580 - accuracy: 0.3945 - val_loss: 0.1988 - val_accuracy: 0.5039\n",
            "Epoch 34/100\n",
            "73/73 [==============================] - 0s 4ms/step - loss: 0.2566 - accuracy: 0.3884 - val_loss: 0.1927 - val_accuracy: 0.5194\n",
            "Epoch 35/100\n",
            "73/73 [==============================] - 0s 4ms/step - loss: 0.2557 - accuracy: 0.4144 - val_loss: 0.1961 - val_accuracy: 0.5271\n",
            "Epoch 36/100\n",
            "73/73 [==============================] - 0s 5ms/step - loss: 0.2554 - accuracy: 0.4135 - val_loss: 0.2149 - val_accuracy: 0.4884\n",
            "Epoch 37/100\n",
            "73/73 [==============================] - 0s 7ms/step - loss: 0.2608 - accuracy: 0.3711 - val_loss: 0.1901 - val_accuracy: 0.4729\n",
            "Epoch 38/100\n",
            "73/73 [==============================] - 0s 6ms/step - loss: 0.2587 - accuracy: 0.3841 - val_loss: 0.1982 - val_accuracy: 0.5349\n",
            "Epoch 39/100\n",
            "73/73 [==============================] - 0s 6ms/step - loss: 0.2567 - accuracy: 0.4170 - val_loss: 0.2094 - val_accuracy: 0.4729\n",
            "Epoch 40/100\n",
            "73/73 [==============================] - 0s 6ms/step - loss: 0.2575 - accuracy: 0.4005 - val_loss: 0.2038 - val_accuracy: 0.5039\n",
            "Epoch 41/100\n",
            "73/73 [==============================] - 0s 6ms/step - loss: 0.2544 - accuracy: 0.4092 - val_loss: 0.1894 - val_accuracy: 0.4961\n",
            "Epoch 42/100\n",
            "73/73 [==============================] - 0s 6ms/step - loss: 0.2540 - accuracy: 0.3979 - val_loss: 0.1999 - val_accuracy: 0.4496\n",
            "Epoch 43/100\n",
            "73/73 [==============================] - 0s 7ms/step - loss: 0.2549 - accuracy: 0.3971 - val_loss: 0.1949 - val_accuracy: 0.5039\n",
            "Epoch 44/100\n",
            "73/73 [==============================] - 0s 4ms/step - loss: 0.2509 - accuracy: 0.4057 - val_loss: 0.1972 - val_accuracy: 0.5116\n",
            "Epoch 45/100\n",
            "73/73 [==============================] - 0s 4ms/step - loss: 0.2529 - accuracy: 0.3988 - val_loss: 0.2223 - val_accuracy: 0.3566\n",
            "Epoch 46/100\n",
            "73/73 [==============================] - 0s 4ms/step - loss: 0.2509 - accuracy: 0.4074 - val_loss: 0.1932 - val_accuracy: 0.5271\n",
            "Epoch 47/100\n",
            "73/73 [==============================] - 0s 4ms/step - loss: 0.2483 - accuracy: 0.4204 - val_loss: 0.2079 - val_accuracy: 0.4419\n",
            "Epoch 48/100\n",
            "73/73 [==============================] - 0s 4ms/step - loss: 0.2498 - accuracy: 0.4135 - val_loss: 0.2135 - val_accuracy: 0.4419\n",
            "Epoch 49/100\n",
            "73/73 [==============================] - 0s 4ms/step - loss: 0.2507 - accuracy: 0.4031 - val_loss: 0.1909 - val_accuracy: 0.5504\n",
            "Epoch 50/100\n",
            "73/73 [==============================] - 0s 4ms/step - loss: 0.2477 - accuracy: 0.4178 - val_loss: 0.1981 - val_accuracy: 0.5116\n",
            "Epoch 51/100\n",
            "73/73 [==============================] - 0s 4ms/step - loss: 0.2443 - accuracy: 0.4066 - val_loss: 0.1935 - val_accuracy: 0.4651\n",
            "Epoch 52/100\n",
            "73/73 [==============================] - 0s 4ms/step - loss: 0.2482 - accuracy: 0.4126 - val_loss: 0.2154 - val_accuracy: 0.4264\n",
            "Epoch 53/100\n",
            "73/73 [==============================] - 0s 4ms/step - loss: 0.2467 - accuracy: 0.4265 - val_loss: 0.2030 - val_accuracy: 0.4419\n",
            "Epoch 54/100\n",
            "73/73 [==============================] - 0s 4ms/step - loss: 0.2413 - accuracy: 0.4256 - val_loss: 0.1922 - val_accuracy: 0.5194\n",
            "Epoch 55/100\n",
            "73/73 [==============================] - 0s 4ms/step - loss: 0.2460 - accuracy: 0.4092 - val_loss: 0.1960 - val_accuracy: 0.4729\n",
            "Epoch 56/100\n",
            "73/73 [==============================] - 0s 4ms/step - loss: 0.2419 - accuracy: 0.3979 - val_loss: 0.1987 - val_accuracy: 0.4806\n",
            "Epoch 57/100\n",
            "73/73 [==============================] - 0s 4ms/step - loss: 0.2399 - accuracy: 0.4170 - val_loss: 0.2036 - val_accuracy: 0.4651\n",
            "Epoch 58/100\n",
            "73/73 [==============================] - 0s 4ms/step - loss: 0.2378 - accuracy: 0.4204 - val_loss: 0.1973 - val_accuracy: 0.4651\n",
            "Epoch 59/100\n",
            "73/73 [==============================] - 0s 4ms/step - loss: 0.2395 - accuracy: 0.4178 - val_loss: 0.2036 - val_accuracy: 0.5116\n",
            "Epoch 60/100\n",
            "73/73 [==============================] - 0s 4ms/step - loss: 0.2360 - accuracy: 0.4239 - val_loss: 0.2026 - val_accuracy: 0.4729\n",
            "Epoch 61/100\n",
            "73/73 [==============================] - 0s 4ms/step - loss: 0.2339 - accuracy: 0.4282 - val_loss: 0.2055 - val_accuracy: 0.4806\n",
            "Epoch 62/100\n",
            "73/73 [==============================] - 0s 4ms/step - loss: 0.2322 - accuracy: 0.4299 - val_loss: 0.1992 - val_accuracy: 0.4961\n",
            "Epoch 63/100\n",
            "73/73 [==============================] - 0s 4ms/step - loss: 0.2302 - accuracy: 0.4317 - val_loss: 0.1991 - val_accuracy: 0.4884\n",
            "Epoch 64/100\n",
            "73/73 [==============================] - 0s 4ms/step - loss: 0.2317 - accuracy: 0.4291 - val_loss: 0.2032 - val_accuracy: 0.4651\n",
            "Epoch 65/100\n",
            "73/73 [==============================] - 0s 5ms/step - loss: 0.2305 - accuracy: 0.4213 - val_loss: 0.1968 - val_accuracy: 0.4729\n",
            "Epoch 66/100\n",
            "73/73 [==============================] - 0s 4ms/step - loss: 0.2292 - accuracy: 0.4386 - val_loss: 0.1945 - val_accuracy: 0.5194\n",
            "Epoch 67/100\n",
            "73/73 [==============================] - 0s 4ms/step - loss: 0.2308 - accuracy: 0.4334 - val_loss: 0.2013 - val_accuracy: 0.4496\n",
            "Epoch 68/100\n",
            "73/73 [==============================] - 0s 4ms/step - loss: 0.2273 - accuracy: 0.4299 - val_loss: 0.1935 - val_accuracy: 0.5039\n",
            "Epoch 69/100\n",
            "73/73 [==============================] - 0s 4ms/step - loss: 0.2229 - accuracy: 0.4351 - val_loss: 0.1981 - val_accuracy: 0.4264\n",
            "Epoch 70/100\n",
            "73/73 [==============================] - 0s 4ms/step - loss: 0.2236 - accuracy: 0.4343 - val_loss: 0.2004 - val_accuracy: 0.4651\n",
            "Epoch 71/100\n",
            "73/73 [==============================] - 0s 4ms/step - loss: 0.2201 - accuracy: 0.4403 - val_loss: 0.1993 - val_accuracy: 0.4961\n",
            "Epoch 72/100\n",
            "73/73 [==============================] - 0s 4ms/step - loss: 0.2281 - accuracy: 0.4334 - val_loss: 0.2080 - val_accuracy: 0.4341\n",
            "Epoch 73/100\n",
            "73/73 [==============================] - 0s 4ms/step - loss: 0.2171 - accuracy: 0.4394 - val_loss: 0.1989 - val_accuracy: 0.5039\n",
            "Epoch 74/100\n",
            "73/73 [==============================] - 0s 4ms/step - loss: 0.2151 - accuracy: 0.4524 - val_loss: 0.1997 - val_accuracy: 0.5194\n",
            "Epoch 75/100\n",
            "73/73 [==============================] - 0s 4ms/step - loss: 0.2148 - accuracy: 0.4524 - val_loss: 0.2010 - val_accuracy: 0.4729\n",
            "Epoch 76/100\n",
            "73/73 [==============================] - 0s 4ms/step - loss: 0.2159 - accuracy: 0.4438 - val_loss: 0.1976 - val_accuracy: 0.4574\n",
            "Epoch 77/100\n",
            "73/73 [==============================] - 0s 5ms/step - loss: 0.2061 - accuracy: 0.4611 - val_loss: 0.1940 - val_accuracy: 0.4729\n",
            "Epoch 78/100\n",
            "73/73 [==============================] - 0s 6ms/step - loss: 0.2069 - accuracy: 0.4749 - val_loss: 0.1980 - val_accuracy: 0.4884\n",
            "Epoch 79/100\n",
            "73/73 [==============================] - 0s 6ms/step - loss: 0.2072 - accuracy: 0.4706 - val_loss: 0.1931 - val_accuracy: 0.4419\n",
            "Epoch 80/100\n",
            "73/73 [==============================] - 0s 7ms/step - loss: 0.2032 - accuracy: 0.4542 - val_loss: 0.2056 - val_accuracy: 0.4574\n",
            "Epoch 81/100\n",
            "73/73 [==============================] - 0s 6ms/step - loss: 0.2032 - accuracy: 0.4602 - val_loss: 0.1973 - val_accuracy: 0.4651\n",
            "Epoch 82/100\n",
            "73/73 [==============================] - 0s 6ms/step - loss: 0.1975 - accuracy: 0.4853 - val_loss: 0.2039 - val_accuracy: 0.4419\n",
            "Epoch 83/100\n",
            "73/73 [==============================] - 0s 7ms/step - loss: 0.1981 - accuracy: 0.4611 - val_loss: 0.2115 - val_accuracy: 0.4419\n",
            "Epoch 84/100\n",
            "73/73 [==============================] - 0s 7ms/step - loss: 0.1918 - accuracy: 0.4888 - val_loss: 0.2033 - val_accuracy: 0.4031\n",
            "Epoch 85/100\n",
            "73/73 [==============================] - 0s 4ms/step - loss: 0.1899 - accuracy: 0.4896 - val_loss: 0.2016 - val_accuracy: 0.4419\n",
            "Epoch 86/100\n",
            "73/73 [==============================] - 0s 4ms/step - loss: 0.1907 - accuracy: 0.4706 - val_loss: 0.2065 - val_accuracy: 0.4341\n",
            "Epoch 87/100\n",
            "73/73 [==============================] - 0s 4ms/step - loss: 0.1882 - accuracy: 0.4853 - val_loss: 0.1964 - val_accuracy: 0.4961\n",
            "Epoch 88/100\n",
            "73/73 [==============================] - 0s 4ms/step - loss: 0.1888 - accuracy: 0.5069 - val_loss: 0.2030 - val_accuracy: 0.4419\n",
            "Epoch 89/100\n",
            "73/73 [==============================] - 0s 4ms/step - loss: 0.1802 - accuracy: 0.5216 - val_loss: 0.2005 - val_accuracy: 0.4186\n",
            "Epoch 90/100\n",
            "73/73 [==============================] - 0s 4ms/step - loss: 0.1773 - accuracy: 0.5043 - val_loss: 0.2040 - val_accuracy: 0.3566\n",
            "Epoch 91/100\n",
            "73/73 [==============================] - 0s 4ms/step - loss: 0.1808 - accuracy: 0.4896 - val_loss: 0.2075 - val_accuracy: 0.4186\n",
            "Epoch 92/100\n",
            "73/73 [==============================] - 0s 4ms/step - loss: 0.1768 - accuracy: 0.5104 - val_loss: 0.2050 - val_accuracy: 0.4341\n",
            "Epoch 93/100\n",
            "73/73 [==============================] - 0s 4ms/step - loss: 0.1721 - accuracy: 0.5164 - val_loss: 0.2081 - val_accuracy: 0.4109\n",
            "Epoch 94/100\n",
            "73/73 [==============================] - 0s 4ms/step - loss: 0.1675 - accuracy: 0.5251 - val_loss: 0.2167 - val_accuracy: 0.4031\n",
            "Epoch 95/100\n",
            "73/73 [==============================] - 0s 4ms/step - loss: 0.1680 - accuracy: 0.5268 - val_loss: 0.2031 - val_accuracy: 0.3798\n",
            "Epoch 96/100\n",
            "73/73 [==============================] - 0s 4ms/step - loss: 0.1652 - accuracy: 0.5303 - val_loss: 0.2125 - val_accuracy: 0.4264\n",
            "Epoch 97/100\n",
            "73/73 [==============================] - 0s 4ms/step - loss: 0.1636 - accuracy: 0.5372 - val_loss: 0.2231 - val_accuracy: 0.3721\n",
            "Epoch 98/100\n",
            "73/73 [==============================] - 0s 4ms/step - loss: 0.1645 - accuracy: 0.5372 - val_loss: 0.2194 - val_accuracy: 0.4109\n",
            "Epoch 99/100\n",
            "73/73 [==============================] - 0s 4ms/step - loss: 0.1606 - accuracy: 0.5372 - val_loss: 0.2164 - val_accuracy: 0.3721\n",
            "Epoch 100/100\n",
            "73/73 [==============================] - 0s 4ms/step - loss: 0.1540 - accuracy: 0.5458 - val_loss: 0.2129 - val_accuracy: 0.3876\n"
          ]
        }
      ]
    },
    {
      "cell_type": "markdown",
      "source": [
        "# Testing"
      ],
      "metadata": {
        "id": "NBp67KMid_LE"
      }
    },
    {
      "cell_type": "code",
      "source": [
        "classes = ['Biography', 'Musical', 'Mystery', 'Adventure', 'Action', 'War', 'Music', 'Fantasy', 'Romance', 'Thriller', 'Family', 'History', 'Crime', 'Drama', 'Comedy']\n",
        "# classes = ['Action','Adventure','Animation',\"Children's\",'Comedy','Crime','Documentary','Drama','Fantasy','Film-Noir','Horror','Musical',\n",
        "#                          'Mystery','Romance','Sci-Fi','Thriller','War','Western']\n",
        "x_test, y_test = get_nth_batch(test_obj)\n",
        "y_pred = softomax(model.predict(x_test))\n"
      ],
      "metadata": {
        "id": "29Tin6iHcinB",
        "colab": {
          "base_uri": "https://localhost:8080/"
        },
        "outputId": "f5b3c45f-463f-4086-8679-93c746c7f1bb"
      },
      "execution_count": null,
      "outputs": [
        {
          "output_type": "stream",
          "name": "stdout",
          "text": [
            "8/8 [==============================] - 0s 2ms/step\n"
          ]
        }
      ]
    },
    {
      "cell_type": "code",
      "source": [
        "classwise_genre_results(y_pred,y_test)"
      ],
      "metadata": {
        "id": "J3Ph_oQhee8S"
      },
      "execution_count": null,
      "outputs": []
    },
    {
      "cell_type": "markdown",
      "source": [
        "# Embedding Extraction"
      ],
      "metadata": {
        "id": "MXpe1tw0eD29"
      }
    },
    {
      "cell_type": "code",
      "source": [
        "audio_features_model = tf.keras.models.Model(inputs=model.get_layer(name = \"audio_input\").input,\n",
        "                      outputs=model.get_layer(name = \"dense_2\").output,)"
      ],
      "metadata": {
        "id": "sRSFWPXacpIH"
      },
      "execution_count": null,
      "outputs": []
    },
    {
      "cell_type": "code",
      "source": [
        "inputx = np.expand_dims(new_audio['tt0040067'], axis=0)\n",
        "b = audio_features_model(inputx)"
      ],
      "metadata": {
        "id": "YBx7hKSncu0G"
      },
      "execution_count": null,
      "outputs": []
    },
    {
      "cell_type": "code",
      "source": [
        "l = list(new_audio.keys())\n",
        "arrx = np.zeros([len(l),513])\n",
        "arrx = pd.DataFrame(arrx)"
      ],
      "metadata": {
        "id": "cja4ym3ucw5w"
      },
      "execution_count": null,
      "outputs": []
    },
    {
      "cell_type": "code",
      "source": [
        "for i in range(len(l)):\n",
        "  x = l[i]\n",
        "  inputx = np.expand_dims(new_audio[x], axis=0)\n",
        "  outputx = audio_features_model(inputx)\n",
        "  y = np.array(outputx) \n",
        "  arrx.iloc[i,0] =  x\n",
        "  arrx.iloc[i,1:] = y[0]"
      ],
      "metadata": {
        "id": "SnhEv2-hczrV"
      },
      "execution_count": null,
      "outputs": []
    },
    {
      "cell_type": "code",
      "source": [
        "arrx.to_csv('task_genre_text_embeddings_flickscore.csv' , index=False)"
      ],
      "metadata": {
        "id": "elDoILeUc2DN"
      },
      "execution_count": null,
      "outputs": []
    },
    {
      "cell_type": "code",
      "source": [
        "axx_np = np.array(arrx)\n",
        "embeddings_dic = {}\n",
        "for i in range(len(axx_np)):\n",
        "    embeddings_dic[axx_np[i][0]] = list(axx_np[i][1:])"
      ],
      "metadata": {
        "id": "N4Ez6sTVc4fs"
      },
      "execution_count": null,
      "outputs": []
    },
    {
      "cell_type": "code",
      "source": [
        "import pickle \n",
        "file_pi = open('flickscore_audio_embedding.obj', 'wb') \n",
        "pickle.dump(embeddings_dic, file_pi)"
      ],
      "metadata": {
        "id": "5G2SWvnUc7lE"
      },
      "execution_count": null,
      "outputs": []
    },
    {
      "cell_type": "code",
      "source": [
        "mn = load_pkl(\"flickscore_audio_embedding.obj\")"
      ],
      "metadata": {
        "id": "YUG9QyIvdAFr"
      },
      "execution_count": null,
      "outputs": []
    },
    {
      "cell_type": "code",
      "source": [
        "# plotting the embedding \n",
        "x = [i for i in range(1,513)]\n",
        "plt.plot(x,mn['tt0040067'])\n",
        "plt.show()"
      ],
      "metadata": {
        "colab": {
          "base_uri": "https://localhost:8080/",
          "height": 430
        },
        "id": "1eFgiRXLfSdq",
        "outputId": "e77395bd-1630-44cf-f7e3-f712dca591d4"
      },
      "execution_count": null,
      "outputs": [
        {
          "output_type": "display_data",
          "data": {
            "text/plain": [
              "<Figure size 640x480 with 1 Axes>"
            ],
            "image/png": "[encoded data removed]"
          },
          "metadata": {}
        }
      ]
    }
  ]
}