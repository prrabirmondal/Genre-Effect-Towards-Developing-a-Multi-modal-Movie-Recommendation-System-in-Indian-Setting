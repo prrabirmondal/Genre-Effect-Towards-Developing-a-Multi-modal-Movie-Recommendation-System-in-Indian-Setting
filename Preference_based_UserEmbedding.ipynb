{
  "cells": [
    {
      "cell_type": "markdown",
      "metadata": {
        "id": "cXOb7sV71l9L"
      },
      "source": [
        "# Helpers"
      ]
    },
    {
      "cell_type": "code",
      "execution_count": null,
      "metadata": {
        "colab": {
          "base_uri": "https://localhost:8080/"
        },
        "id": "LGNqJfrX1el9",
        "outputId": "18d8d776-443e-4065-d231-0033fa5fca7d"
      },
      "outputs": [
        {
          "output_type": "stream",
          "name": "stdout",
          "text": [
            "Mounted at /content/drive\n"
          ]
        }
      ],
      "source": [
        "from google.colab import drive\n",
        "drive.mount('/content/drive')"
      ]
    },
    {
      "cell_type": "code",
      "execution_count": null,
      "metadata": {
        "colab": {
          "base_uri": "https://localhost:8080/"
        },
        "id": "aFaqOJpY1hhq",
        "outputId": "329d6f01-282f-4083-95eb-51d39d052ee2"
      },
      "outputs": [
        {
          "output_type": "stream",
          "name": "stdout",
          "text": [
            "Looking in indexes: https://pypi.org/simple, https://us-python.pkg.dev/colab-wheels/public/simple/\n",
            "Collecting pickle5\n",
            "  Downloading pickle5-0.0.11.tar.gz (132 kB)\n",
            "\u001b[2K     \u001b[90m━━━━━━━━━━━━━━━━━━━━━━━━━━━━━━━━━━━━━━━\u001b[0m \u001b[32m132.1/132.1 KB\u001b[0m \u001b[31m3.7 MB/s\u001b[0m eta \u001b[36m0:00:00\u001b[0m\n",
            "\u001b[?25h  Preparing metadata (setup.py) ... \u001b[?25l\u001b[?25hdone\n",
            "Building wheels for collected packages: pickle5\n",
            "  Building wheel for pickle5 (setup.py) ... \u001b[?25l\u001b[?25hdone\n",
            "  Created wheel for pickle5: filename=pickle5-0.0.11-cp39-cp39-linux_x86_64.whl size=255891 sha256=1fefb143baa81e48f75f4867db3bb702cd8e80eef8c8153431e8b43b23de0ef1\n",
            "  Stored in directory: /root/.cache/pip/wheels/f2/7a/49/9bef8878949914ecb90c08fc5bf30a05e17f475fe7e08b63a8\n",
            "Successfully built pickle5\n",
            "Installing collected packages: pickle5\n",
            "Successfully installed pickle5-0.0.11\n"
          ]
        }
      ],
      "source": [
        "!pip install pickle5"
      ]
    },
    {
      "cell_type": "code",
      "execution_count": null,
      "metadata": {
        "id": "rED0fQbe1iBD"
      },
      "outputs": [],
      "source": [
        "import os\n",
        "import pickle5 as pickle\n",
        "from sklearn.preprocessing import StandardScaler\n",
        "import numpy as np\n",
        "from pathlib import Path\n",
        "import random\n",
        "import string\n",
        "import math\n",
        "import warnings\n",
        "warnings.filterwarnings('ignore') "
      ]
    },
    {
      "cell_type": "code",
      "execution_count": null,
      "metadata": {
        "id": "YHz7qaih1j4O"
      },
      "outputs": [],
      "source": [
        "def load_pkl(filename):\n",
        "    filename= filename\n",
        "    data= None\n",
        "    with open(filename, \"rb\") as handle:\n",
        "        data= pickle.load(handle)\n",
        "        handle.close()\n",
        "    return data"
      ]
    },
    {
      "cell_type": "code",
      "execution_count": null,
      "metadata": {
        "id": "Hr-rH0ey4LIq"
      },
      "outputs": [],
      "source": [
        "def dot_product(l1,l2):\n",
        "\n",
        "  # function to perform element wise dot product of two list\n",
        "  s = 0\n",
        "  for i,j in zip(l1,l2):\n",
        "    ele = i*j\n",
        "    s = s + ele\n",
        "  return s\n",
        "\n",
        "def multiply_scalor(k,l1):\n",
        "\n",
        "  # function to perform a list with a scalor value\n",
        "  l2 = []\n",
        "  for i in l1:\n",
        "    j = i * k\n",
        "    l2.append(j)\n",
        "  return l2\n",
        "\n",
        "def normalize(l1):\n",
        "\n",
        "  # function to normalize a list using standard scaler\n",
        "  data = np.array(l1).reshape(-1,1)\n",
        "  scaler = StandardScaler()\n",
        "  scaled_data = scaler.fit_transform(data)\n",
        "  l2 = scaled_data.transpose()[0]\n",
        "  return list(l2)"
      ]
    },
    {
      "cell_type": "markdown",
      "metadata": {
        "id": "JZD2hDmh1pup"
      },
      "source": [
        "# Code"
      ]
    },
    {
      "cell_type": "code",
      "execution_count": null,
      "metadata": {
        "id": "tl8Yd_No1rVW"
      },
      "outputs": [],
      "source": [
        "# movie information\n",
        "text_meta = load_pkl(\"/content/drive/MyDrive/Recommendation_Journal/latest_movies_meta_info.obj\")\n",
        "video = os.listdir(\"/content/drive/MyDrive/Recommendation_system/trailer\")\n",
        "genre_info = load_pkl(\"/content/drive/MyDrive/Recommendation_Journal/genre_info_dict.obj\")\n",
        "\n",
        "# movie embedding\n",
        "video_embed = load_pkl(\"/content/drive/MyDrive/Recommendation_Journal/movie_embedding/genre_based_movie_video_embeddings_scene_detect.pkl\")\n",
        "audio_embed = load_pkl(\"/content/drive/MyDrive/Recommendation_Journal/movie_embedding/genre_based_movie_audio_embedding.obj\")\n",
        "audio_video = load_pkl(\"/content/drive/MyDrive/Recommendation_Journal/movie_embedding/genre_based_movie_audio+video_embeddings.obj\")\n",
        "\n",
        "# genre preference\n",
        "user_dislike = load_pkl(\"/content/drive/MyDrive/Recommendation_Journal/flickscore_genre_preferences/users_dislike_genre_flickscore.pkl\")\n",
        "user_like = load_pkl(\"/content/drive/MyDrive/Recommendation_Journal/flickscore_genre_preferences/users_like_genre_flickscore.pkl\")\n",
        "user_neutral = load_pkl(\"/content/drive/MyDrive/Recommendation_Journal/flickscore_genre_preferences/users_neutral_genre_flickscore.pkl\")\n",
        "\n",
        "# user information\n",
        "complete_enc= load_pkl(\"/content/drive/MyDrive/sony_IITPatna/complete_rating_user_embedding.obj\")"
      ]
    },
    {
      "cell_type": "code",
      "execution_count": null,
      "metadata": {
        "id": "8nvvkbLUNIG8"
      },
      "outputs": [],
      "source": [
        "trail = []\n",
        "for i in video:\n",
        "  trail.append(i[0:9])"
      ]
    },
    {
      "cell_type": "code",
      "execution_count": null,
      "metadata": {
        "id": "jiDVHAmv2UuB"
      },
      "outputs": [],
      "source": [
        "complete_enc_v2 = []\n",
        "for i in range(763):\n",
        "  if len(complete_enc[i]) != 0: # Removing zero length items from complete_enc\n",
        "    complete_enc_v2.append(complete_enc[i])"
      ]
    },
    {
      "cell_type": "code",
      "execution_count": null,
      "metadata": {
        "colab": {
          "base_uri": "https://localhost:8080/"
        },
        "id": "PsZGr3Ha2X5h",
        "outputId": "1575a667-2981-4545-f857-068c6bb05447"
      },
      "outputs": [
        {
          "output_type": "stream",
          "name": "stdout",
          "text": [
            "key:  tt0319165\n",
            "opinion:  ['-1']\n",
            "genre:  [0, 0, 0, 0, 0, 0, 0, 0, 0, 0, 0, 0, 0, 1, 0]\n",
            "like:  0.0\n",
            "dislike:  0.0\n",
            "neutral:  0.0\n",
            "dislike vector:  ['mukesh', 0.0, 0.0, 0.0, 0.0, 0.0, 0.0, 0.0, 0.0, 0.0, 0.0, 0.0, 0.0, 0.0, 0.0, 0.0]\n",
            "like vector:  ['mukesh', 0.0, 0.0, 0.0, 0.0, 0.0, 0.0, 0.0, 0.0, 0.0, 0.0, 0.0, 0.0, 0.0, 0.0, 0.0]\n",
            "neutral vector:  ['mukesh', 0.0, 0.0, 0.0, 0.0, 0.0, 0.0, 0.0, 0.0, 0.0, 0.0, 0.0, 0.0, 0.0, 0.0, 0.0]\n",
            "preference score:  nan\n",
            "=================================================================================\n",
            "running\n",
            "key2:  tt0319165\n"
          ]
        }
      ],
      "source": [
        "not_id = []\n",
        "video_embed_mul = []\n",
        "for i in range(753):\n",
        "  for j in complete_enc_v2[i]:\n",
        "    key = j[1]\n",
        "    user = j[0]\n",
        "    rating = j[2]\n",
        "    gen = genre_info[key]\n",
        "    dislike = user_dislike.loc[user].tolist()\n",
        "    like = user_like.loc[user].tolist()\n",
        "    neutral = user_neutral.loc[user].tolist()\n",
        "    # print(\"key: \",key)\n",
        "    # print(\"opinion: \",j[2])\n",
        "    like_movie_score = dot_product(dislike[1:],gen)\n",
        "    dislike_movie_score = dot_product(like[1:],gen)\n",
        "    neutral_movie_score = dot_product(neutral[1:],gen)\n",
        "    pref_score = (like_movie_score + 0.5 * neutral_movie_score)/(like_movie_score +\n",
        "                                                                 dislike_movie_score +\n",
        "                                                                 neutral_movie_score )\n",
        "    # print(\"preference score: \",pref_score)\n",
        "    if (like_movie_score == 0 and dislike_movie_score == 0 and neutral_movie_score == 0) and (key in trail):\n",
        "      print(\"key: \",key)\n",
        "      print(\"opinion: \",j[2])\n",
        "      print(\"genre: \",gen)\n",
        "      print(\"like: \",like_movie_score)\n",
        "      print(\"dislike: \",dislike_movie_score)\n",
        "      print(\"neutral: \",neutral_movie_score)\n",
        "      print(\"dislike vector: \",dislike)\n",
        "      print(\"like vector: \",like)\n",
        "      print(\"neutral vector: \",neutral)\n",
        "      print(\"preference score: \",pref_score)\n",
        "      not_id.append(key)\n",
        "      print(\"=================================================================================\")\n",
        "    j.append(gen)\n",
        "    if math.isnan(pref_score):\n",
        "      j.append(0.01)\n",
        "      print(\"running\")\n",
        "      print(\"key2: \",key)\n",
        "      video_embed_mul.append([user,key,0.01,rating])\n",
        "    else:\n",
        "      j.append(pref_score)\n",
        "      video_embed_mul.append([user,key,pref_score,rating])"
      ]
    },
    {
      "cell_type": "code",
      "execution_count": null,
      "metadata": {
        "id": "lWDhHLbj8nNe"
      },
      "outputs": [],
      "source": [
        "finalop = []\n",
        "for j in complete_enc_v2:\n",
        "  kl = []\n",
        "  id = j[0][0]\n",
        "  for i in j:\n",
        "     kl.append([i[1],i[4]])\n",
        "    #  kl.append(i[4])\n",
        "  p = {id : kl}          # Making list of dictionaries of movie_id liked (Rating = 1) by the user \n",
        "  finalop.append(p)      # Format: [{'user_id':[movie_id]}]"
      ]
    },
    {
      "cell_type": "code",
      "execution_count": null,
      "metadata": {
        "id": "d6NbF3Ny99EF"
      },
      "outputs": [],
      "source": [
        "user_embed = []\n",
        "for j in range(len(finalop)):\n",
        "  id  = list(finalop[j].keys())[0]\n",
        "  k = finalop[j].get(id)\n",
        "  lp = []\n",
        "  for i in k:\n",
        "     movie_id = i[0]\n",
        "     pref_score = i[1]\n",
        "     if movie_id in audio_video.keys():\n",
        "        pref_score = 100 * pref_score\n",
        "        lp.append(normalize(multiply_scalor(pref_score,audio_video.get(movie_id))))\n",
        "  lp = np.array(lp) \n",
        "                                         # Making list of dictionaries of movie_id liked (Rating = 1) by the user by taking the average      \n",
        "                                         # Format: [{'user_id':[textual embedding of movie_ids]}]\n",
        "  pop = np.average(lp, axis=0)\n",
        "  mk = {id:pop}\n",
        "  user_embed.append(mk)"
      ]
    },
    {
      "cell_type": "code",
      "execution_count": null,
      "metadata": {
        "id": "tDjlSegLA2Kt"
      },
      "outputs": [],
      "source": [
        "dict_user_embed = dict()\n",
        "for i in range(len(user_embed)):\n",
        "  bnb = list(user_embed[i].keys())[0]\n",
        "  value = user_embed[i][bnb]               \n",
        "  dict_user_embed[bnb] = value    # Making dictionary of movie_id liked (Rating = 1) by the user  \n",
        "                                  # Format: {'user_id':[textual embedding of movie_ids]}"
      ]
    },
    {
      "cell_type": "markdown",
      "metadata": {
        "id": "vq9fu0CwstB9"
      },
      "source": [
        "# File Saving"
      ]
    },
    {
      "cell_type": "code",
      "execution_count": null,
      "metadata": {
        "id": "S4I0UZ75bzrx"
      },
      "outputs": [],
      "source": [
        "for i in l:\n",
        "  if dict_user_embed[i].size == 1:  # removing users whose embeddings is nan\n",
        "    print(i)\n",
        "    dict_user_embed.pop(i)"
      ]
    },
    {
      "cell_type": "code",
      "execution_count": null,
      "metadata": {
        "id": "ytdZQ-DYbSnm"
      },
      "outputs": [],
      "source": [
        "import pickle \n",
        "file_pi = open('/content/drive/MyDrive/Recommendation_Journal/Preference Score based User Embeddings/pref_score_based_user_audio_video_embedding.obj', 'wb') \n",
        "pickle.dump(dict_user_embed, file_pi)"
      ]
    },
    {
      "cell_type": "code",
      "execution_count": null,
      "metadata": {
        "id": "A85QJFTdbd-r"
      },
      "outputs": [],
      "source": [
        "new_user = load_pkl(\"/content/drive/MyDrive/Recommendation_Journal/Preference Score based User Embeddings/pref_score_based_user_audio_video_embedding.obj\")"
      ]
    },
    {
      "cell_type": "code",
      "execution_count": null,
      "metadata": {
        "colab": {
          "base_uri": "https://localhost:8080/"
        },
        "id": "rJ-Fl9GRcxS-",
        "outputId": "95e2876f-0e32-4402-8836-ea9c128b30a7"
      },
      "outputs": [
        {
          "output_type": "execute_result",
          "data": {
            "text/plain": [
              "array([ 0.08084971, -0.56518928,  1.0816766 , ...,  0.85524615,\n",
              "       -0.06876155, -0.0425514 ])"
            ]
          },
          "metadata": {},
          "execution_count": 33
        }
      ],
      "source": [
        "new_user['Avdesh Kumar']"
      ]
    }
  ],
  "metadata": {
    "colab": {
      "collapsed_sections": [
        "cXOb7sV71l9L",
        "JZD2hDmh1pup",
        "vq9fu0CwstB9"
      ],
      "provenance": []
    },
    "kernelspec": {
      "display_name": "Python 3",
      "name": "python3"
    },
    "language_info": {
      "name": "python"
    }
  },
  "nbformat": 4,
  "nbformat_minor": 0
}