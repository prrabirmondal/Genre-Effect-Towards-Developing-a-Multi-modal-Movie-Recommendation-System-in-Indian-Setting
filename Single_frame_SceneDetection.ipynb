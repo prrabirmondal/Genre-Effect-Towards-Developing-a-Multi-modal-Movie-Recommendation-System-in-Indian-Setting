{
  "nbformat": 4,
  "nbformat_minor": 0,
  "metadata": {
    "colab": {
      "provenance": [],
      "collapsed_sections": [
        "CIWDIxITfOHT",
        "_n4uioOPfKX9"
      ]
    },
    "kernelspec": {
      "name": "python3",
      "display_name": "Python 3"
    },
    "language_info": {
      "name": "python"
    }
  },
  "cells": [
    {
      "cell_type": "markdown",
      "source": [
        "# Helpers"
      ],
      "metadata": {
        "id": "CIWDIxITfOHT"
      }
    },
    {
      "cell_type": "code",
      "source": [
        "from google.colab import drive\n",
        "drive.mount('/content/drive')"
      ],
      "metadata": {
        "colab": {
          "base_uri": "https://localhost:8080/"
        },
        "id": "3O5LEWmFl3pz",
        "outputId": "ed1c50b9-a2f2-4737-ced2-a4d1ef8785d8"
      },
      "execution_count": null,
      "outputs": [
        {
          "output_type": "stream",
          "name": "stdout",
          "text": [
            "Mounted at /content/drive\n"
          ]
        }
      ]
    },
    {
      "cell_type": "code",
      "execution_count": null,
      "metadata": {
        "colab": {
          "base_uri": "https://localhost:8080/"
        },
        "id": "TIseReYXlOaL",
        "outputId": "7925cd3e-b15b-4bf2-987f-fea54b76a804"
      },
      "outputs": [
        {
          "output_type": "stream",
          "name": "stdout",
          "text": [
            "Looking in indexes: https://pypi.org/simple, https://us-python.pkg.dev/colab-wheels/public/simple/\n",
            "Collecting ffmpeg\n",
            "  Downloading ffmpeg-1.4.tar.gz (5.1 kB)\n",
            "  Preparing metadata (setup.py) ... \u001b[?25l\u001b[?25hdone\n",
            "Building wheels for collected packages: ffmpeg\n",
            "  Building wheel for ffmpeg (setup.py) ... \u001b[?25l\u001b[?25hdone\n",
            "  Created wheel for ffmpeg: filename=ffmpeg-1.4-py3-none-any.whl size=6083 sha256=56cbbc6348165e22c00f81470a08371981bee098aa7ecb6ee886d2d3bbf39421\n",
            "  Stored in directory: /root/.cache/pip/wheels/1d/57/24/4eff6a03a9ea0e647568e8a5a0546cdf957e3cf005372c0245\n",
            "Successfully built ffmpeg\n",
            "Installing collected packages: ffmpeg\n",
            "Successfully installed ffmpeg-1.4\n"
          ]
        }
      ],
      "source": [
        "!pip install ffmpeg"
      ]
    },
    {
      "cell_type": "code",
      "source": [
        "!pip install scenedetect[opencv] --upgrade"
      ],
      "metadata": {
        "colab": {
          "base_uri": "https://localhost:8080/"
        },
        "id": "yN3Vkj3ClkL0",
        "outputId": "989bfcc0-52e9-4266-a688-e07f51466eed"
      },
      "execution_count": null,
      "outputs": [
        {
          "output_type": "stream",
          "name": "stdout",
          "text": [
            "Looking in indexes: https://pypi.org/simple, https://us-python.pkg.dev/colab-wheels/public/simple/\n",
            "Collecting scenedetect[opencv]\n",
            "  Downloading scenedetect-0.6.1-py3-none-any.whl (115 kB)\n",
            "\u001b[?25l     \u001b[90m━━━━━━━━━━━━━━━━━━━━━━━━━━━━━━━━━━━━━━━━\u001b[0m \u001b[32m0.0/115.1 KB\u001b[0m \u001b[31m?\u001b[0m eta \u001b[36m-:--:--\u001b[0m\r\u001b[2K     \u001b[90m━━━━━━━━━━━━━━━━━━━━━━━━━━━━━━━━━━━━━━━\u001b[0m \u001b[32m115.1/115.1 KB\u001b[0m \u001b[31m4.1 MB/s\u001b[0m eta \u001b[36m0:00:00\u001b[0m\n",
            "\u001b[?25hRequirement already satisfied: Click in /usr/local/lib/python3.9/dist-packages (from scenedetect[opencv]) (8.1.3)\n",
            "Requirement already satisfied: appdirs in /usr/local/lib/python3.9/dist-packages (from scenedetect[opencv]) (1.4.4)\n",
            "Requirement already satisfied: tqdm in /usr/local/lib/python3.9/dist-packages (from scenedetect[opencv]) (4.65.0)\n",
            "Requirement already satisfied: numpy in /usr/local/lib/python3.9/dist-packages (from scenedetect[opencv]) (1.22.4)\n",
            "Requirement already satisfied: opencv-python in /usr/local/lib/python3.9/dist-packages (from scenedetect[opencv]) (4.7.0.72)\n",
            "Installing collected packages: scenedetect\n",
            "Successfully installed scenedetect-0.6.1\n"
          ]
        }
      ]
    },
    {
      "cell_type": "code",
      "source": [
        "from scenedetect import open_video, SceneManager, split_video_ffmpeg, StatsManager\n",
        "from scenedetect import detect, ContentDetector, split_video_ffmpeg,save_images\n",
        "from scenedetect.detectors import ContentDetector\n",
        "from scenedetect.video_splitter import split_video_ffmpeg\n",
        "from google.colab.patches import cv2_imshow\n",
        "from tqdm import tqdm\n",
        "import torch\n",
        "import os\n",
        "import matplotlib.pyplot as plt\n",
        "import cv2\n",
        "from google.colab.patches import cv2_imshow\n",
        "import csv\n",
        "from scenedetect.scene_manager import write_scene_list\n",
        "import os\n",
        "import cv2\n",
        "import pickle "
      ],
      "metadata": {
        "id": "wQhjAl_tltfG"
      },
      "execution_count": null,
      "outputs": []
    },
    {
      "cell_type": "markdown",
      "source": [
        "# Code"
      ],
      "metadata": {
        "id": "_n4uioOPfKX9"
      }
    },
    {
      "cell_type": "code",
      "source": [
        "# path of output folder where you want to save the frames\n",
        "output_path = \"/content/drive/MyDrive/scene_detect/single frame for each scene/\"\n",
        "output_folder1 = os.listdir(\"/content/drive/MyDrive/scene_detect/single frame for each scene\")\n",
        "\n",
        "# path of video trailers\n",
        "video_folder = os.listdir(\"/content/drive/MyDrive/Recommendation_system/trailer/\")"
      ],
      "metadata": {
        "id": "TiIXl_TnnbOc"
      },
      "execution_count": null,
      "outputs": []
    },
    {
      "cell_type": "code",
      "source": [
        "for i in video_folder:\n",
        "  if i[0:9] not in output_folder1:\n",
        "    notp.append(i)"
      ],
      "metadata": {
        "id": "hXYbwsoqAA61"
      },
      "execution_count": null,
      "outputs": []
    },
    {
      "cell_type": "code",
      "source": [
        "notp_v2 = []\n",
        "\n",
        "for i in tqdm(notp):\n",
        "\n",
        "  try: \n",
        "    print(\"Movie name: \",i)\n",
        "    video_file = \"/content/drive/MyDrive/Recommendation_system/trailer/\" + i\n",
        "    video = open_video(video_file)\n",
        "    scene_manager = SceneManager(stats_manager=StatsManager())\n",
        "    scene_manager.add_detector(ContentDetector(threshold=10))\n",
        "    scene_manager.detect_scenes(video=video)\n",
        "    scene_list = scene_manager.get_scene_list()  \n",
        "    saving_dir = output_path + os.path.basename(video_file)[0:9]\n",
        "    save_images(scene_list,video,num_images=1,output_dir=saving_dir)\n",
        "  except:\n",
        "    print(\"Not possible: \",i)\n",
        "    notp_v2.append(i)"
      ],
      "metadata": {
        "id": "mjXHJXE6plJL"
      },
      "execution_count": null,
      "outputs": []
    }
  ]
}